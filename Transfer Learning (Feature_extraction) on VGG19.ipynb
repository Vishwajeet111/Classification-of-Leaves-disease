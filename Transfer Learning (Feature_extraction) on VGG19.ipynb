{
  "cells": [
    {
      "cell_type": "code",
      "execution_count": 1,
      "metadata": {
        "id": "-oLJfXn1S4o9"
      },
      "outputs": [],
      "source": [
        "# importing the libraries\n",
        "import tensorflow as tf\n",
        "from tensorflow.keras import models, layers\n",
        "import matplotlib.pyplot as plt\n",
        "import seaborn as sns\n",
        "import numpy as np\n",
        "from tensorflow.keras.preprocessing.image import ImageDataGenerator\n",
        "from tensorflow.keras.callbacks import EarlyStopping\n",
        "from sklearn.metrics import classification_report, confusion_matrix"
      ]
    },
    {
      "cell_type": "code",
      "execution_count": 2,
      "metadata": {
        "id": "5DXb4WxeUEdy",
        "colab": {
          "base_uri": "https://localhost:8080/"
        },
        "outputId": "fe363613-ac99-442a-b0a4-14e51fb02dd3"
      },
      "outputs": [
        {
          "output_type": "stream",
          "name": "stdout",
          "text": [
            "Mounted at /content/drive\n"
          ]
        }
      ],
      "source": [
        "# mounting the google drive\n",
        "from google.colab import drive\n",
        "drive.mount('/content/drive')"
      ]
    },
    {
      "cell_type": "code",
      "execution_count": 3,
      "metadata": {
        "id": "D8ZDXLTTV1x4"
      },
      "outputs": [],
      "source": [
        "image_size = 256\n",
        "channels = 3"
      ]
    },
    {
      "cell_type": "code",
      "execution_count": 4,
      "metadata": {
        "id": "MVQycAbnUbro"
      },
      "outputs": [],
      "source": [
        "def ImageAugmentation(location, shuffle):\n",
        "  datagen = ImageDataGenerator(\n",
        "      rescale = 1./255, rotation_range = 10, horizontal_flip = True)\n",
        "  image_generator = datagen.flow_from_directory(\n",
        "      location, target_size = (image_size, image_size),batch_size = 32,class_mode = \"sparse\", shuffle = shuffle)\n",
        "\n",
        "  return image_generator"
      ]
    },
    {
      "cell_type": "code",
      "execution_count": 5,
      "metadata": {
        "id": "Y0TpfdO-Vb73",
        "colab": {
          "base_uri": "https://localhost:8080/"
        },
        "outputId": "6a475018-5ea8-4789-c662-a5cfa1c8c528"
      },
      "outputs": [
        {
          "output_type": "stream",
          "name": "stdout",
          "text": [
            "Found 21472 images belonging to 19 classes.\n",
            "Found 2700 images belonging to 19 classes.\n",
            "Found 2678 images belonging to 19 classes.\n"
          ]
        }
      ],
      "source": [
        "train_generator = ImageAugmentation('/content/drive/MyDrive/Colab Notebooks/Leaves_image_CNN_training/train',shuffle = True)\n",
        "test_generator = ImageAugmentation('/content/drive/MyDrive/Colab Notebooks/Leaves_image_CNN_training/test',shuffle = False)\n",
        "val_generator = ImageAugmentation('/content/drive/MyDrive/Colab Notebooks/Leaves_image_CNN_training/val',shuffle = True)"
      ]
    },
    {
      "cell_type": "code",
      "execution_count": 6,
      "metadata": {
        "id": "_mQYnv8IW9_6",
        "colab": {
          "base_uri": "https://localhost:8080/"
        },
        "outputId": "519e8c95-49e3-46a0-c965-9ee9c23d47d6"
      },
      "outputs": [
        {
          "output_type": "stream",
          "name": "stdout",
          "text": [
            "['Grape___Black_rot', 'Grape___Esca_(Black_Measles)', 'Grape___Leaf_blight_(Isariopsis_Leaf_Spot)', 'Grape___healthy', 'Pepper,_bell___Bacterial_spot', 'Pepper,_bell___healthy', 'Potato___Early_blight', 'Potato___Late_blight', 'Potato___healthy', 'Tomato___Bacterial_spot', 'Tomato___Early_blight', 'Tomato___Late_blight', 'Tomato___Leaf_Mold', 'Tomato___Septoria_leaf_spot', 'Tomato___Spider_mites Two-spotted_spider_mite', 'Tomato___Target_Spot', 'Tomato___Tomato_Yellow_Leaf_Curl_Virus', 'Tomato___Tomato_mosaic_virus', 'Tomato___healthy']\n"
          ]
        }
      ],
      "source": [
        "# printing the class names\n",
        "class_name = list(train_generator.class_indices.keys())\n",
        "print(class_name)"
      ]
    },
    {
      "cell_type": "code",
      "execution_count": 7,
      "metadata": {
        "id": "xlbVNkY8RPVT"
      },
      "outputs": [],
      "source": [
        "from keras.applications.vgg19 import VGG19\n",
        "from keras import Sequential\n",
        "from keras.layers import Dense, Flatten"
      ]
    },
    {
      "cell_type": "code",
      "execution_count": 8,
      "metadata": {
        "id": "qvo4N-no3l7r",
        "colab": {
          "base_uri": "https://localhost:8080/"
        },
        "outputId": "d856acdf-c5a3-4a7d-9dce-fb42f6d1cb90"
      },
      "outputs": [
        {
          "output_type": "stream",
          "name": "stdout",
          "text": [
            "Downloading data from https://storage.googleapis.com/tensorflow/keras-applications/vgg19/vgg19_weights_tf_dim_ordering_tf_kernels_notop.h5\n",
            "80134624/80134624 [==============================] - 3s 0us/step\n"
          ]
        }
      ],
      "source": [
        "conv_base = VGG19(\n",
        "    weights = \"imagenet\",\n",
        "    include_top = False,\n",
        "    input_shape = (image_size,image_size,channels)\n",
        ")\n",
        "conv_base.trainable = False"
      ]
    },
    {
      "cell_type": "code",
      "execution_count": 9,
      "metadata": {
        "id": "MeKgHZ4IRbkW",
        "colab": {
          "base_uri": "https://localhost:8080/"
        },
        "outputId": "b21ae148-8db6-43ad-aaa6-3e020446841d"
      },
      "outputs": [
        {
          "output_type": "stream",
          "name": "stdout",
          "text": [
            "Model: \"vgg19\"\n",
            "_________________________________________________________________\n",
            " Layer (type)                Output Shape              Param #   \n",
            "=================================================================\n",
            " input_1 (InputLayer)        [(None, 256, 256, 3)]     0         \n",
            "                                                                 \n",
            " block1_conv1 (Conv2D)       (None, 256, 256, 64)      1792      \n",
            "                                                                 \n",
            " block1_conv2 (Conv2D)       (None, 256, 256, 64)      36928     \n",
            "                                                                 \n",
            " block1_pool (MaxPooling2D)  (None, 128, 128, 64)      0         \n",
            "                                                                 \n",
            " block2_conv1 (Conv2D)       (None, 128, 128, 128)     73856     \n",
            "                                                                 \n",
            " block2_conv2 (Conv2D)       (None, 128, 128, 128)     147584    \n",
            "                                                                 \n",
            " block2_pool (MaxPooling2D)  (None, 64, 64, 128)       0         \n",
            "                                                                 \n",
            " block3_conv1 (Conv2D)       (None, 64, 64, 256)       295168    \n",
            "                                                                 \n",
            " block3_conv2 (Conv2D)       (None, 64, 64, 256)       590080    \n",
            "                                                                 \n",
            " block3_conv3 (Conv2D)       (None, 64, 64, 256)       590080    \n",
            "                                                                 \n",
            " block3_conv4 (Conv2D)       (None, 64, 64, 256)       590080    \n",
            "                                                                 \n",
            " block3_pool (MaxPooling2D)  (None, 32, 32, 256)       0         \n",
            "                                                                 \n",
            " block4_conv1 (Conv2D)       (None, 32, 32, 512)       1180160   \n",
            "                                                                 \n",
            " block4_conv2 (Conv2D)       (None, 32, 32, 512)       2359808   \n",
            "                                                                 \n",
            " block4_conv3 (Conv2D)       (None, 32, 32, 512)       2359808   \n",
            "                                                                 \n",
            " block4_conv4 (Conv2D)       (None, 32, 32, 512)       2359808   \n",
            "                                                                 \n",
            " block4_pool (MaxPooling2D)  (None, 16, 16, 512)       0         \n",
            "                                                                 \n",
            " block5_conv1 (Conv2D)       (None, 16, 16, 512)       2359808   \n",
            "                                                                 \n",
            " block5_conv2 (Conv2D)       (None, 16, 16, 512)       2359808   \n",
            "                                                                 \n",
            " block5_conv3 (Conv2D)       (None, 16, 16, 512)       2359808   \n",
            "                                                                 \n",
            " block5_conv4 (Conv2D)       (None, 16, 16, 512)       2359808   \n",
            "                                                                 \n",
            " block5_pool (MaxPooling2D)  (None, 8, 8, 512)         0         \n",
            "                                                                 \n",
            "=================================================================\n",
            "Total params: 20,024,384\n",
            "Trainable params: 0\n",
            "Non-trainable params: 20,024,384\n",
            "_________________________________________________________________\n"
          ]
        }
      ],
      "source": [
        "conv_base.summary()"
      ]
    },
    {
      "cell_type": "code",
      "execution_count": 11,
      "metadata": {
        "colab": {
          "base_uri": "https://localhost:8080/"
        },
        "id": "-bi9J_TbRnnL",
        "outputId": "0f301ea3-2841-475c-c4b2-723fb7a3c627"
      },
      "outputs": [
        {
          "output_type": "stream",
          "name": "stdout",
          "text": [
            "Model: \"sequential_1\"\n",
            "_________________________________________________________________\n",
            " Layer (type)                Output Shape              Param #   \n",
            "=================================================================\n",
            " vgg19 (Functional)          (None, 8, 8, 512)         20024384  \n",
            "                                                                 \n",
            " flatten_1 (Flatten)         (None, 32768)             0         \n",
            "                                                                 \n",
            " dense_2 (Dense)             (None, 256)               8388864   \n",
            "                                                                 \n",
            " dense_3 (Dense)             (None, 19)                4883      \n",
            "                                                                 \n",
            "=================================================================\n",
            "Total params: 28,418,131\n",
            "Trainable params: 8,393,747\n",
            "Non-trainable params: 20,024,384\n",
            "_________________________________________________________________\n"
          ]
        }
      ],
      "source": [
        "model = Sequential()\n",
        "model.add(conv_base)\n",
        "model.add(Flatten())\n",
        "model.add(Dense(256,activation = 'relu'))\n",
        "model.add(Dense(19,activation = 'softmax'))\n",
        "model.summary()"
      ]
    },
    {
      "cell_type": "code",
      "execution_count": 12,
      "metadata": {
        "id": "uimoe_RhSn16"
      },
      "outputs": [],
      "source": [
        "from tensorflow.keras.callbacks import EarlyStopping\n",
        "callback = EarlyStopping(monitor=\"val_loss\",min_delta=0.00001,patience=2,verbose=1,mode=\"auto\",baseline=None,restore_best_weights=False)"
      ]
    },
    {
      "cell_type": "code",
      "execution_count": 13,
      "metadata": {
        "id": "6tX9-YxPTQCc"
      },
      "outputs": [],
      "source": [
        "model.compile(optimizer='adam',loss=tf.keras.losses.SparseCategoricalCrossentropy(from_logits=False),metrics=['accuracy'])"
      ]
    },
    {
      "cell_type": "code",
      "execution_count": null,
      "metadata": {
        "colab": {
          "base_uri": "https://localhost:8080/"
        },
        "id": "chPWFqBCTR4c",
        "outputId": "c6f0738f-c61d-4d9f-bafb-895755187a13"
      },
      "outputs": [
        {
          "output_type": "stream",
          "name": "stdout",
          "text": [
            "Epoch 1/10\n",
            "671/671 [==============================] - 11550s 17s/step - loss: 0.7850 - accuracy: 0.7717 - val_loss: 0.4496 - val_accuracy: 0.8518\n",
            "Epoch 2/10\n",
            "671/671 [==============================] - 423s 630ms/step - loss: 0.3567 - accuracy: 0.8793 - val_loss: 0.3218 - val_accuracy: 0.8872\n",
            "Epoch 3/10\n",
            "671/671 [==============================] - 426s 635ms/step - loss: 0.2763 - accuracy: 0.9033 - val_loss: 0.2920 - val_accuracy: 0.8958\n",
            "Epoch 4/10\n",
            "492/671 [====================>.........] - ETA: 1:39 - loss: 0.2377 - accuracy: 0.9168"
          ]
        }
      ],
      "source": [
        "history = model.fit(\n",
        "    train_generator,steps_per_epoch=len(train_generator),batch_size=32,validation_data=val_generator,\n",
        "    validation_steps=len(val_generator),verbose=1,epochs=10,callbacks=callback)"
      ]
    },
    {
      "cell_type": "code",
      "execution_count": null,
      "metadata": {
        "id": "ZDL03hppTY-I"
      },
      "outputs": [],
      "source": [
        "test_loss, test_accuracy = model.evaluate(test_generator)\n",
        "print('The accuracy of the testing dataset is {} and the loss of the testing dataset is {}'.format(test_accuracy*100, test_loss*100))"
      ]
    },
    {
      "cell_type": "code",
      "execution_count": null,
      "metadata": {
        "id": "GK8Ro6HcUdQD"
      },
      "outputs": [],
      "source": [
        "accuracy = history.history['accuracy']\n",
        "loss = history.history['loss']\n",
        "val_accuracy = history.history['val_accuracy']\n",
        "val_loss = history.history['val_loss']\n",
        "epochs_range = range(13)\n",
        "\n",
        "plt.rcParams['figure.figsize'] = (10,12)\n",
        "plt.subplot(1,2,1)\n",
        "plt.plot(epochs_range, accuracy,'-o', label='Training Accuracy',color=\"#CF0A0A\")\n",
        "plt.plot(epochs_range, val_accuracy,'o--', label='Validation Accuracy',color=\"#2192FF\")\n",
        "plt.xlabel(\"Epochs\")\n",
        "plt.legend()\n",
        "plt.title('Accuracy')\n",
        "\n",
        "plt.subplot(1,2,2)\n",
        "plt.plot(epochs_range, loss,'-o', label='Training Loss',color=\"#CF0A0A\")\n",
        "plt.plot(epochs_range, val_loss,'o--', label='Validation Loss',color=\"#2192FF\")\n",
        "plt.xlabel(\"Epochs\")\n",
        "plt.legend()\n",
        "plt.title('Loss')\n",
        "plt.show();"
      ]
    },
    {
      "cell_type": "code",
      "execution_count": null,
      "metadata": {
        "id": "4xqg2nJ8Ug45"
      },
      "outputs": [],
      "source": [
        "y_prob = model.predict(test_generator, verbose = True)\n",
        "y_pred = np.argmax(y_prob, axis=1)"
      ]
    },
    {
      "cell_type": "code",
      "execution_count": null,
      "metadata": {
        "id": "04r65XOAUkSp"
      },
      "outputs": [],
      "source": [
        "from sklearn.metrics import classification_report, confusion_matrix\n",
        "import seaborn as sns\n",
        "cm = confusion_matrix(test_generator.classes, y_pred)\n",
        "sns.heatmap(cm,annot=True,cmap=\"Blues\",fmt='g',linewidth=.5,xticklabels=class_names,yticklabels=class_names)\n",
        "plt.xlabel(\"Actual Values\",size=10,color='red')\n",
        "plt.ylabel(\"Predicted Values\",size=10,color='red')\n",
        "plt.show()"
      ]
    },
    {
      "cell_type": "code",
      "source": [],
      "metadata": {
        "id": "bGVnatPCwXMz"
      },
      "execution_count": null,
      "outputs": []
    }
  ],
  "metadata": {
    "accelerator": "GPU",
    "colab": {
      "provenance": [],
      "authorship_tag": "ABX9TyMPkPSy/kK8795ec8bTlh3Z"
    },
    "gpuClass": "standard",
    "kernelspec": {
      "display_name": "Python 3",
      "name": "python3"
    },
    "language_info": {
      "name": "python"
    }
  },
  "nbformat": 4,
  "nbformat_minor": 0
}